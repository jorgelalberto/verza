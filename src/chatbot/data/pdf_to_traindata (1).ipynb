{
 "cells": [
  {
   "cell_type": "code",
   "execution_count": 1,
   "metadata": {},
   "outputs": [],
   "source": [
    "from pdfminer.pdfinterp import PDFResourceManager, PDFPageInterpreter\n",
    "from pdfminer.converter import TextConverter\n",
    "from pdfminer.layout import LAParams\n",
    "from pdfminer.pdfpage import PDFPage\n",
    "from io import StringIO\n",
    "import os\n",
    "from pathlib import Path\n",
    "from pdfminer.high_level import extract_pages"
   ]
  },
  {
   "cell_type": "code",
   "execution_count": 2,
   "metadata": {},
   "outputs": [],
   "source": [
    "def convert_pdf_to_txt(path, pages):\n",
    "    rsrcmgr = PDFResourceManager()\n",
    "    retstr = StringIO()\n",
    "    codec = 'utf-8'\n",
    "\n",
    "    laparams=LAParams(all_texts=True, detect_vertical=True, \n",
    "                      line_overlap=0.5, char_margin=1000.0, #set char_margin to a large number\n",
    "                      line_margin=0.5, word_margin=2,\n",
    "                      boxes_flow=1)\n",
    "    device = TextConverter(rsrcmgr, retstr, codec=codec, laparams=laparams)\n",
    "    fp = open(path, 'rb')\n",
    "    interpreter = PDFPageInterpreter(rsrcmgr, device)\n",
    "    password = \"\"\n",
    "    maxpages = 0\n",
    "    caching = True\n",
    "    pagenos=set(pages)\n",
    "\n",
    "    for page in PDFPage.get_pages(fp, pagenos, maxpages=maxpages, password=password,caching=caching, check_extractable=True):\n",
    "        interpreter.process_page(page)\n",
    "\n",
    "    text = retstr.getvalue()\n",
    "\n",
    "    fp.close()\n",
    "    device.close()\n",
    "    retstr.close()\n",
    "    return text"
   ]
  },
  {
   "cell_type": "code",
   "execution_count": 5,
   "metadata": {},
   "outputs": [
    {
     "data": {
      "text/plain": [
       "['1Q2016.pdf',\n",
       " '1Q2017.pdf',\n",
       " '1Q2018.pdf',\n",
       " '1Q2019.pdf',\n",
       " '1Q2020.pdf',\n",
       " '1Q2021.pdf',\n",
       " '1Q2022.pdf',\n",
       " '1Q2023.pdf',\n",
       " '2Q2016.pdf',\n",
       " '2Q2017.pdf',\n",
       " '2Q2018.pdf',\n",
       " '2Q2019.pdf',\n",
       " '2Q2020.pdf',\n",
       " '2Q2021.pdf',\n",
       " '2Q2022.pdf',\n",
       " '2Q2023.pdf',\n",
       " '3Q2016.pdf',\n",
       " '3Q2017.pdf',\n",
       " '3Q2018.pdf',\n",
       " '3Q2019.pdf',\n",
       " '3Q2020.pdf',\n",
       " '3Q2021.pdf',\n",
       " '3Q2022.pdf',\n",
       " '4Q2016.pdf',\n",
       " '4Q2017.pdf',\n",
       " '4Q2018.pdf',\n",
       " '4Q2019.pdf',\n",
       " '4Q2020.pdf',\n",
       " '4Q2021.pdf',\n",
       " '4Q2022.pdf']"
      ]
     },
     "execution_count": 5,
     "metadata": {},
     "output_type": "execute_result"
    }
   ],
   "source": [
    "path = os.getcwd()+\"\\\\financial calls\"\n",
    "financial_call_pdfs = os.listdir(path)\n",
    "financial_call_pdfs"
   ]
  },
  {
   "cell_type": "code",
   "execution_count": 7,
   "metadata": {},
   "outputs": [
    {
     "ename": "FileNotFoundError",
     "evalue": "[Errno 2] No such file or directory: 'financial_calls/2Q2023.pdf'",
     "output_type": "error",
     "traceback": [
      "\u001b[1;31m---------------------------------------------------------------------------\u001b[0m",
      "\u001b[1;31mFileNotFoundError\u001b[0m                         Traceback (most recent call last)",
      "\u001b[1;32mc:\\Users\\jgalb\\Desktop\\College\\Code\\verza\\src\\chatbot\\data\\pdf_to_traindata.ipynb Cell 4\u001b[0m line \u001b[0;36m5\n\u001b[0;32m      <a href='vscode-notebook-cell:/c%3A/Users/jgalb/Desktop/College/Code/verza/src/chatbot/data/pdf_to_traindata.ipynb#X11sZmlsZQ%3D%3D?line=2'>3</a>\u001b[0m numpages \u001b[39m=\u001b[39m \u001b[39mlen\u001b[39m(\u001b[39mlist\u001b[39m(extract_pages(path \u001b[39m+\u001b[39m \u001b[39m\"\u001b[39m\u001b[39m\\\\\u001b[39;00m\u001b[39m\"\u001b[39m \u001b[39m+\u001b[39mfinancial_call)))\n\u001b[0;32m      <a href='vscode-notebook-cell:/c%3A/Users/jgalb/Desktop/College/Code/verza/src/chatbot/data/pdf_to_traindata.ipynb#X11sZmlsZQ%3D%3D?line=3'>4</a>\u001b[0m pages \u001b[39m=\u001b[39m [\u001b[39m*\u001b[39m\u001b[39mrange\u001b[39m(\u001b[39m1\u001b[39m,numpages\u001b[39m+\u001b[39m\u001b[39m1\u001b[39m)]\n\u001b[1;32m----> <a href='vscode-notebook-cell:/c%3A/Users/jgalb/Desktop/College/Code/verza/src/chatbot/data/pdf_to_traindata.ipynb#X11sZmlsZQ%3D%3D?line=4'>5</a>\u001b[0m txt \u001b[39m+\u001b[39m\u001b[39m=\u001b[39m convert_pdf_to_txt(\u001b[39m\"\u001b[39;49m\u001b[39mfinancial_calls/2Q2023.pdf\u001b[39;49m\u001b[39m\"\u001b[39;49m, pages)\n",
      "\u001b[1;32mc:\\Users\\jgalb\\Desktop\\College\\Code\\verza\\src\\chatbot\\data\\pdf_to_traindata.ipynb Cell 4\u001b[0m line \u001b[0;36m1\n\u001b[0;32m      <a href='vscode-notebook-cell:/c%3A/Users/jgalb/Desktop/College/Code/verza/src/chatbot/data/pdf_to_traindata.ipynb#X11sZmlsZQ%3D%3D?line=5'>6</a>\u001b[0m laparams\u001b[39m=\u001b[39mLAParams(all_texts\u001b[39m=\u001b[39m\u001b[39mTrue\u001b[39;00m, detect_vertical\u001b[39m=\u001b[39m\u001b[39mTrue\u001b[39;00m, \n\u001b[0;32m      <a href='vscode-notebook-cell:/c%3A/Users/jgalb/Desktop/College/Code/verza/src/chatbot/data/pdf_to_traindata.ipynb#X11sZmlsZQ%3D%3D?line=6'>7</a>\u001b[0m                   line_overlap\u001b[39m=\u001b[39m\u001b[39m0.5\u001b[39m, char_margin\u001b[39m=\u001b[39m\u001b[39m1000.0\u001b[39m, \u001b[39m#set char_margin to a large number\u001b[39;00m\n\u001b[0;32m      <a href='vscode-notebook-cell:/c%3A/Users/jgalb/Desktop/College/Code/verza/src/chatbot/data/pdf_to_traindata.ipynb#X11sZmlsZQ%3D%3D?line=7'>8</a>\u001b[0m                   line_margin\u001b[39m=\u001b[39m\u001b[39m0.5\u001b[39m, word_margin\u001b[39m=\u001b[39m\u001b[39m2\u001b[39m,\n\u001b[0;32m      <a href='vscode-notebook-cell:/c%3A/Users/jgalb/Desktop/College/Code/verza/src/chatbot/data/pdf_to_traindata.ipynb#X11sZmlsZQ%3D%3D?line=8'>9</a>\u001b[0m                   boxes_flow\u001b[39m=\u001b[39m\u001b[39m1\u001b[39m)\n\u001b[0;32m     <a href='vscode-notebook-cell:/c%3A/Users/jgalb/Desktop/College/Code/verza/src/chatbot/data/pdf_to_traindata.ipynb#X11sZmlsZQ%3D%3D?line=9'>10</a>\u001b[0m device \u001b[39m=\u001b[39m TextConverter(rsrcmgr, retstr, codec\u001b[39m=\u001b[39mcodec, laparams\u001b[39m=\u001b[39mlaparams)\n\u001b[1;32m---> <a href='vscode-notebook-cell:/c%3A/Users/jgalb/Desktop/College/Code/verza/src/chatbot/data/pdf_to_traindata.ipynb#X11sZmlsZQ%3D%3D?line=10'>11</a>\u001b[0m fp \u001b[39m=\u001b[39m \u001b[39mopen\u001b[39;49m(path, \u001b[39m'\u001b[39;49m\u001b[39mrb\u001b[39;49m\u001b[39m'\u001b[39;49m)\n\u001b[0;32m     <a href='vscode-notebook-cell:/c%3A/Users/jgalb/Desktop/College/Code/verza/src/chatbot/data/pdf_to_traindata.ipynb#X11sZmlsZQ%3D%3D?line=11'>12</a>\u001b[0m interpreter \u001b[39m=\u001b[39m PDFPageInterpreter(rsrcmgr, device)\n\u001b[0;32m     <a href='vscode-notebook-cell:/c%3A/Users/jgalb/Desktop/College/Code/verza/src/chatbot/data/pdf_to_traindata.ipynb#X11sZmlsZQ%3D%3D?line=12'>13</a>\u001b[0m password \u001b[39m=\u001b[39m \u001b[39m\"\u001b[39m\u001b[39m\"\u001b[39m\n",
      "File \u001b[1;32mc:\\Users\\jgalb\\miniconda3\\envs\\verza\\lib\\site-packages\\IPython\\core\\interactiveshell.py:286\u001b[0m, in \u001b[0;36m_modified_open\u001b[1;34m(file, *args, **kwargs)\u001b[0m\n\u001b[0;32m    279\u001b[0m \u001b[39mif\u001b[39;00m file \u001b[39min\u001b[39;00m {\u001b[39m0\u001b[39m, \u001b[39m1\u001b[39m, \u001b[39m2\u001b[39m}:\n\u001b[0;32m    280\u001b[0m     \u001b[39mraise\u001b[39;00m \u001b[39mValueError\u001b[39;00m(\n\u001b[0;32m    281\u001b[0m         \u001b[39mf\u001b[39m\u001b[39m\"\u001b[39m\u001b[39mIPython won\u001b[39m\u001b[39m'\u001b[39m\u001b[39mt let you open fd=\u001b[39m\u001b[39m{\u001b[39;00mfile\u001b[39m}\u001b[39;00m\u001b[39m by default \u001b[39m\u001b[39m\"\u001b[39m\n\u001b[0;32m    282\u001b[0m         \u001b[39m\"\u001b[39m\u001b[39mas it is likely to crash IPython. If you know what you are doing, \u001b[39m\u001b[39m\"\u001b[39m\n\u001b[0;32m    283\u001b[0m         \u001b[39m\"\u001b[39m\u001b[39myou can use builtins\u001b[39m\u001b[39m'\u001b[39m\u001b[39m open.\u001b[39m\u001b[39m\"\u001b[39m\n\u001b[0;32m    284\u001b[0m     )\n\u001b[1;32m--> 286\u001b[0m \u001b[39mreturn\u001b[39;00m io_open(file, \u001b[39m*\u001b[39margs, \u001b[39m*\u001b[39m\u001b[39m*\u001b[39mkwargs)\n",
      "\u001b[1;31mFileNotFoundError\u001b[0m: [Errno 2] No such file or directory: 'financial_calls/2Q2023.pdf'"
     ]
    }
   ],
   "source": [
    "txt = \"\"\n",
    "for financial_call in financial_call_pdfs:\n",
    "    numpages = len(list(extract_pages(path + \"\\\\\" + financial_call)))\n",
    "    pages = [*range(1,numpages+1)]\n",
    "    txt += convert_pdf_to_txt(\"financial calls/2Q2023.pdf\", pages)"
   ]
  },
  {
   "cell_type": "code",
   "execution_count": 75,
   "metadata": {},
   "outputs": [],
   "source": [
    "with open(\"Output.txt\", \"w\") as text_file:\n",
    "    text_file.write(\"Purchase Amount: %s\" % txt)"
   ]
  }
 ],
 "metadata": {
  "kernelspec": {
   "display_name": "verza",
   "language": "python",
   "name": "python3"
  },
  "language_info": {
   "codemirror_mode": {
    "name": "ipython",
    "version": 3
   },
   "file_extension": ".py",
   "mimetype": "text/x-python",
   "name": "python",
   "nbconvert_exporter": "python",
   "pygments_lexer": "ipython3",
   "version": "3.9.18"
  }
 },
 "nbformat": 4,
 "nbformat_minor": 2
}
