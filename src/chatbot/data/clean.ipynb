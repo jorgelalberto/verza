{
 "cells": [
  {
   "cell_type": "code",
   "execution_count": 8,
   "metadata": {},
   "outputs": [],
   "source": [
    "import csv\n",
    "\n",
    "file = open(\"Output.txt\", \"r\", encoding='utf-8', errors='ignore')\n",
    "lines = file.readlines()\n",
    "file.close()"
   ]
  },
  {
   "cell_type": "code",
   "execution_count": 23,
   "metadata": {},
   "outputs": [
    {
     "name": "stdout",
     "output_type": "stream",
     "text": [
      "{0: 'Mike Stefanski Verizon Communications, Inc. - SVP, IR\\n', 1: 'Fran Shammo Verizon Communications, Inc. - EVP & CFO\\n', 2: 'CONFERENCE CALL PARTICIPANTS\\n', 3: 'Brett Feldman Goldman Sachs - Analyst\\n', 4: 'Simon Flannery Morgan Stanley - Analyst\\n', 5: 'David Barden BofA Merrill Lynch - Analyst\\n', 6: 'Phil Cusick JPMorgan - Analyst\\n', 7: 'Mike Rollins Citigroup - Analyst\\n', 8: 'Craig Moffett MoffettNathanson - Analyst\\n', 9: 'John Hodulik UBS - Analyst\\n', 10: 'Mike McCormack Jefferies - Analyst\\n', 11: 'Amir Rozwadowski Barclays Capital - Analyst\\n', 12: 'Matt Ellis Verizon Communications Inc. - CFO and EVP\\n', 13: 'Michael Stefanski Verizon Communications Inc. - SVP of IR\\n', 14: 'Amir Rozwadowski Barclays PLC, Research Division - Director and Senior Research Analyst\\n', 15: 'Brett Feldman Goldman Sachs Group Inc., Research Division - Equity Analyst\\n', 16: 'Craig Moffett MoffettNathanson LLC - Co-Founder, Partner and Senior Research Analyst\\n', 17: 'David Barden BofA Merrill Lynch, Research Division - MD\\n', 18: 'Jennifer Fritzsche Wells Fargo Securities, LLC, Research Division - MD and Senior Analyst\\n', 19: 'John Hodulik UBS Investment Bank, Research Division - MD, Sector Head of the United States Communications Group, and Telco and Pay TV Analyst\\n', 20: 'Mike Rollins Citigroup Inc, Research Division - MD and U.S. Telecoms Analyst\\n', 21: 'Mike McCormack Jefferies LLC, Research Division - Equity Analyst\\n', 22: 'Philip Cusick JP Morgan Chase & Co, Research Division - MD and Senior Analyst\\n', 23: 'Simon Flannery Morgan Stanley, Research Division - MD\\n', 24: 'Tim Horan Oppenheimer & Co. Inc., Research Division - MD and Senior Analyst\\n', 25: 'Brady Connor Verizon Communications Inc. - SVP of IR\\n', 26: 'Matt Ellis Verizon Communications Inc. - EVP & CFO\\n', 27: 'Philip Cusick JPMorgan - Analyst\\n', 28: 'Michael Rollins Citigroup - Analyst\\n', 29: 'Craig Moffett MoffettNathanson LLC - Analyst\\n', 30: 'Jennifer Fritzsche Wells Fargo Securities - Analyst\\n', 31: 'Scott Goldman Jefferies LLC - Analyst\\n', 32: 'Mike McCormack Guggenheim Securities LLC - Analyst\\n', 33: 'Hans Vestberg Verizon Communications Inc. - Chairman & CEO\\n', 34: 'Matt Ellis Verizon Communications Inc. - Executive VP & CFO\\n', 35: 'Colby Synesael Cowen and Company, LLC, Research Division - MD and Senior Research Analyst\\n', 36: 'Craig Moffett MoffettNathanson LLC - Founding Partner\\n', 37: 'John Hodulik UBS Investment Bank, Research Division - MD, Sector Head of the United States Communications Group and Telco & Pay TV Analyst\\n', 38: 'Matthew Niknam Deutsche Bank AG, Research Division - Director\\n', 39: 'Michael Rollins Citigroup Inc, Research Division - MD and U.S. Telecoms Analyst\\n', 40: 'Michael McCormack Guggenheim Securities, LLC, Research Division - MD & Telecommunications Senior Analyst\\n', 41: 'Walter Piecyk BTIG, LLC, Research Division - Co-Head of Research and MD\\n', 42: 'Colby Synesael Cowen and Company, LLC, Research Division - MD & Senior Research Analyst\\n', 43: 'Jennifer Fritzsche Wells Fargo Securities, LLC, Research Division - MD & Senior Analyst\\n', 44: 'Michael Rollins Citigroup Inc, Research Division - MD & U.S. Telecoms Analyst\\n', 45: 'Brett Feldman Goldman Sachs Group, Inc., Research Division - Equity Analyst\\n', 46: 'Craig Moffett MoffettNathanson LLC - Co-Founder, Founding Partner & Senior Research Analyst\\n', 47: 'David Barden BofA Securities, Research Division - MD\\n', 48: 'Frank Louthan Raymond James & Associates, Inc., Research Division - MD of Equity Research\\n', 49: 'Kannan Venkateshwar Barclays Bank PLC, Research Division - Director & Senior Research Analyst\\n', 50: 'Michael Rollins Citigroup Inc., Research Division - MD & U.S. Telecoms Analyst\\n', 51: 'Philip Cusick JPMorgan Chase & Co, Research Division - MD and Senior Analyst\\n', 52: 'Timothy Horan Oppenheimer & Co. Inc., Research Division - MD & Senior Analyst\\n', 53: 'CORPORATE PARTICIPANTS\\n', 54: 'CONFERENCE CALL PARTICIPANTS \\n', 55: 'Brett Feldman Goldman Sachs Group, Inc., Research Division - Equity Analyst \\n', 56: 'Bryan Kraft Deutsche Bank AG, Research Division - Senior Analyst \\n', 57: 'Craig Moffett MoffettNathanson LLC - Co-Founder, Founding Partner & Senior Research Analyst \\n', 58: 'David Barden BofA Securities, Research Division - MD \\n', 59: 'Doug Mitchelson Crédit Suisse AG, Research Division - MD \\n', 60: 'John Hodulik UBS Investment Bank, Research Division - MD, Sector Head of the United States Communications Group and Telco & Pay TV Analyst \\n', 61: 'Michael Rollins Citigroup Inc., Research Division - MD & U.S. Telecoms Analyst \\n', 62: 'Philip Cusick JPMorgan Chase & Co, Research Division - MD and Senior Analyst \\n', 63: 'Simon Flannery Morgan Stanley, Research Division - MD \\n', 64: 'Tony Skiadas Verizon Communications Inc. - Chief Financial Officer Designate\\n', 65: 'Peter Supino Wolfe Research, LLC - MD & Senior Analyst\\n', 66: 'Mike Stefanski Verizon Communications Inc. - SVP of IR\\n', 67: 'Timothy Horan Oppenheimer & Co. Inc., Research Division - MD and Senior Analyst\\n', 68: 'Lowell McAdam Verizon Communications Inc. - Chairman and CEO\\n', 69: 'Matt Ellis Verizon Communications Inc. - EVP and CFO\\n', 70: 'Hans Vestberg Verizon Communications Inc. - Incoming CEO\\n', 71: 'David Barden Bank of America - Analyst\\n', 72: 'Michael Rollins Citibank - Analyst\\n', 73: 'Jennifer Fritzsche Wells Fargo - Analyst\\n', 74: 'Matthew Niknam Deutsche Bank - Analyst\\n', 75: 'Tim Horan Oppenheimer - Analyst\\n', 76: 'Doug Mitchelson Crédit Suisse AG, Research Division - MD\\n', 77: 'Peter Supino Sanford C. Bernstein & Co., LLC., Research Division - Research Analyst\\n', 78: 'Craig Moffett MoffettNathanson LLC - Co-Founder, Founding Partner\\n', 79: 'Douglas Mitchelson Crédit Suisse AG, Research Division - MD\\n', 80: 'Brady Connor Verizon Communications Inc. - SVP of IR \\n', 81: 'Hans Vestberg Verizon Communications Inc. - Chairman & CEO \\n', 82: 'Matt Ellis Verizon Communications Inc. - Executive VP & CFO \\n', 83: 'Batya Levi UBS Investment Bank, Research Division - Executive Director and Research Analyst \\n', 84: 'Douglas Mitchelson Crédit Suisse AG, Research Division - MD \\n', 85: 'Frank Louthan Raymond James & Associates, Inc., Research Division - MD of Equity Research \\n', 86: 'Kannan Venkateshwar Barclays Bank PLC, Research Division - Director & Senior Research Analyst \\n', 87: 'Anthony Skiadas Verizon Communications Inc. - Executive VP & CFO\\n', 88: 'Brett Feldman Goldman Sachs Group, Inc., Research Division - MD\\n', 89: 'Bryan Kraft Deutsche Bank AG, Research Division - Senior Analyst\\n', 90: 'Walter Piecyk LightShed Partners, LLC - Partner & TMT Analyst\\n', 91: 'Michael Stefanski Verizon Communications, Inc. - SVP, IR\\n', 92: 'Matt Ellis Verizon Communications, Inc. - SVP & CFO, Operations Finance\\n', 93: 'Tim Horan Oppenheimer & Co. - Analyst\\n', 94: 'Mike McCormack Jefferies LLC - Analyst\\n', 95: 'Jennifer Fritzsche Wells Fargo Securities, LLC - Analyst\\n', 96: 'Jeff Kvaal Nomura Securities Intl (America) - Analyst\\n', 97: 'Walter Piecyk BTIG - Analyst\\n', 98: 'Matt Niknam Deutsche Bank - Analyst\\n', 99: 'Douglas Mitchelson Credit Suisse AG, Research Division - MD\\n', 100: 'Tim Horan Oppenheimer & Co. Inc., Research Division - MD & Senior Analyst \\n', 101: 'Michael Stefanski Verizon Communications Inc. - SVP, IR\\n', 102: 'Brady Connor\\n', 103: 'Hans Vestberg Verizon Communications Inc. - CEO\\n', 104: 'John  Hodulik UBS Investment Bank, Research Division - MD, Sector Head of the United States Communications Group and Telco & Pay TV Analyst \\n', 105: 'Craig Moffett MoffettNathanson LLC - Co-Founder & Founding Partner\\n', 106: 'Greg Williams Cowen and Company, LLC, Research Division - Director\\n', 107: 'Tim Horan Oppenheimer & Co. Inc., Research Division - MD & Senior Analyst\\n'}\n"
     ]
    }
   ],
   "source": [
    "# we must know the name of the person who started asking the question and the name of the\n",
    "# person who answered the question, so store a list of names for each session\n",
    "names = {}\n",
    "key = 0\n",
    "for i in range(len(lines)):\n",
    "    if \"CORPORATE PARTICIPANTS\" in lines[i]:\n",
    "        j = i + 1\n",
    "        while \"PRESENTATION\" not in lines[j]:\n",
    "            if lines[j] != \"\\n\" and lines[j] not in names.values():\n",
    "                names[key] = lines[j]\n",
    "                key = key + 1\n",
    "            j = j + 1\n",
    "        i = j\n",
    "print(names)"
   ]
  },
  {
   "cell_type": "code",
   "execution_count": null,
   "metadata": {},
   "outputs": [],
   "source": [
    "csv_file = 'Questions_Answers.csv'\n",
    "\n",
    "with open(csv_file, 'w') as csvfile:\n",
    "    writer = csv.DictWriter(csvfile, fieldnames=columns)"
   ]
  }
 ],
 "metadata": {
  "kernelspec": {
   "display_name": "Python 3",
   "language": "python",
   "name": "python3"
  },
  "language_info": {
   "codemirror_mode": {
    "name": "ipython",
    "version": 3
   },
   "file_extension": ".py",
   "mimetype": "text/x-python",
   "name": "python",
   "nbconvert_exporter": "python",
   "pygments_lexer": "ipython3",
   "version": "3.11.6"
  }
 },
 "nbformat": 4,
 "nbformat_minor": 2
}
