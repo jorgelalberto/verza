{
 "cells": [
  {
   "cell_type": "code",
   "execution_count": 8,
   "metadata": {},
   "outputs": [],
   "source": [
    "import csv\n",
    "\n",
    "file = open(\"Output.txt\", \"r\", encoding='utf-8', errors='ignore')\n",
    "lines = file.readlines()\n",
    "file.close()"
   ]
  },
  {
   "cell_type": "code",
   "execution_count": 17,
   "metadata": {},
   "outputs": [
    {
     "name": "stdout",
     "output_type": "stream",
     "text": [
      "QUESTIONS AND ANSWERS\n",
      "QUESTIONS AND ANSWERS\n",
      "QUESTIONS AND ANSWERS\n",
      "QUESTIONS AND ANSWERS\n",
      "QUESTIONS AND ANSWERS\n",
      "QUESTIONS AND ANSWERS\n",
      "QUESTIONS AND ANSWERS\n",
      "QUESTIONS AND ANSWERS\n",
      "QUESTIONS AND ANSWERS\n",
      "QUESTIONS AND ANSWERS\n",
      "QUESTIONS AND ANSWERS\n",
      "QUESTIONS AND ANSWERS\n",
      "QUESTIONS AND ANSWERS\n",
      "QUESTIONS AND ANSWERS\n",
      "QUESTIONS AND ANSWERS\n",
      "QUESTIONS AND ANSWERS\n",
      "QUESTIONS AND ANSWERS\n",
      "QUESTIONS AND ANSWERS\n",
      "QUESTIONS AND ANSWERS\n",
      "QUESTIONS AND ANSWERS\n",
      "QUESTIONS AND ANSWERS\n",
      "QUESTIONS AND ANSWERS\n",
      "QUESTIONS AND ANSWERS\n",
      "QUESTIONS AND ANSWERS\n",
      "QUESTIONS AND ANSWERS\n",
      "QUESTIONS AND ANSWERS\n",
      "QUESTIONS AND ANSWERS\n",
      "QUESTIONS AND ANSWERS\n",
      "QUESTIONS AND ANSWERS\n",
      "QUESTIONS AND ANSWERS\n"
     ]
    }
   ],
   "source": [
    "for line in lines:\n",
    "    if \"QUESTIONS AND ANSWERS\" in line:\n",
    "        line = line.strip()\n",
    "        print(line)"
   ]
  },
  {
   "cell_type": "code",
   "execution_count": null,
   "metadata": {},
   "outputs": [],
   "source": [
    "csv_file = 'Questions_Answers.csv'\n",
    "\n",
    "with open(csv_file, 'w') as csvfile:\n",
    "    writer = csv.DictWriter(csvfile, fieldnames=columns)"
   ]
  }
 ],
 "metadata": {
  "kernelspec": {
   "display_name": "Python 3",
   "language": "python",
   "name": "python3"
  },
  "language_info": {
   "codemirror_mode": {
    "name": "ipython",
    "version": 3
   },
   "file_extension": ".py",
   "mimetype": "text/x-python",
   "name": "python",
   "nbconvert_exporter": "python",
   "pygments_lexer": "ipython3",
   "version": "3.11.6"
  }
 },
 "nbformat": 4,
 "nbformat_minor": 2
}
