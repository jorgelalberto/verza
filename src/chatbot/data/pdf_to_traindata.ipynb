{
 "cells": [
  {
   "cell_type": "code",
   "execution_count": 67,
   "metadata": {},
   "outputs": [],
   "source": [
    "from pdfminer.pdfinterp import PDFResourceManager, PDFPageInterpreter\n",
    "from pdfminer.converter import TextConverter\n",
    "from pdfminer.layout import LAParams\n",
    "from pdfminer.pdfpage import PDFPage\n",
    "from io import StringIO\n",
    "import os\n",
    "from pathlib import Path\n",
    "from pdfminer.high_level import extract_pages"
   ]
  },
  {
   "cell_type": "code",
   "execution_count": 27,
   "metadata": {},
   "outputs": [],
   "source": [
    "def convert_pdf_to_txt(path, pages):\n",
    "    rsrcmgr = PDFResourceManager()\n",
    "    retstr = StringIO()\n",
    "    codec = 'utf-8'\n",
    "\n",
    "    laparams=LAParams(all_texts=True, detect_vertical=True, \n",
    "                      line_overlap=0.5, char_margin=1000.0, #set char_margin to a large number\n",
    "                      line_margin=0.5, word_margin=2,\n",
    "                      boxes_flow=1)\n",
    "    device = TextConverter(rsrcmgr, retstr, codec=codec, laparams=laparams)\n",
    "    fp = open(path, 'rb')\n",
    "    interpreter = PDFPageInterpreter(rsrcmgr, device)\n",
    "    password = \"\"\n",
    "    maxpages = 0\n",
    "    caching = True\n",
    "    pagenos=set(pages)\n",
    "\n",
    "    for page in PDFPage.get_pages(fp, pagenos, maxpages=maxpages, password=password,caching=caching, check_extractable=True):\n",
    "        interpreter.process_page(page)\n",
    "\n",
    "    text = retstr.getvalue()\n",
    "\n",
    "    fp.close()\n",
    "    device.close()\n",
    "    retstr.close()\n",
    "    return text"
   ]
  },
  {
   "cell_type": "code",
   "execution_count": 66,
   "metadata": {},
   "outputs": [
    {
     "data": {
      "text/plain": [
       "['1Q2016.pdf',\n",
       " '1Q2017.pdf',\n",
       " '1Q2018.pdf',\n",
       " '1Q2019.pdf',\n",
       " '1Q2020.pdf',\n",
       " '1Q2021.pdf',\n",
       " '1Q2022.pdf',\n",
       " '1Q2023.pdf',\n",
       " '2Q2017.pdf',\n",
       " '2Q2018.pdf',\n",
       " '2Q2019.pdf',\n",
       " '2Q2020.pdf',\n",
       " '2Q2021.pdf',\n",
       " '2Q2022.pdf',\n",
       " '2Q2023.pdf',\n",
       " '3Q2016.pdf',\n",
       " '3Q2017.pdf',\n",
       " '3Q2018.pdf',\n",
       " '3Q2019.pdf',\n",
       " '3Q2020.pdf',\n",
       " '3Q2021.pdf',\n",
       " '3Q2022.pdf',\n",
       " '4Q2016.pdf',\n",
       " '4Q2017.pdf',\n",
       " '4Q2018.pdf',\n",
       " '4Q2019.pdf',\n",
       " '4Q2020.pdf',\n",
       " '4Q2021.pdf',\n",
       " '4Q2022.pdf']"
      ]
     },
     "execution_count": 66,
     "metadata": {},
     "output_type": "execute_result"
    }
   ],
   "source": [
    "path = os.getcwd()+\"\\\\financial_calls\"\n",
    "financial_call_pdfs = os.listdir(path)\n",
    "financial_call_pdfs"
   ]
  },
  {
   "cell_type": "code",
   "execution_count": 73,
   "metadata": {},
   "outputs": [],
   "source": [
    "txt = \"\"\n",
    "for financial_call in financial_call_pdfs:\n",
    "    numpages = len(list(extract_pages(path + \"\\\\\" +financial_call)))\n",
    "    pages = [*range(1,3)]\n",
    "    txt += convert_pdf_to_txt(\"financial_calls/2Q2023.pdf\", pages)"
   ]
  },
  {
   "cell_type": "code",
   "execution_count": 75,
   "metadata": {},
   "outputs": [],
   "source": [
    "with open(\"Output.txt\", \"w\") as text_file:\n",
    "    text_file.write(\"Purchase Amount: %s\" % txt)"
   ]
  }
 ],
 "metadata": {
  "kernelspec": {
   "display_name": "verza",
   "language": "python",
   "name": "python3"
  },
  "language_info": {
   "codemirror_mode": {
    "name": "ipython",
    "version": 3
   },
   "file_extension": ".py",
   "mimetype": "text/x-python",
   "name": "python",
   "nbconvert_exporter": "python",
   "pygments_lexer": "ipython3",
   "version": "3.9.18"
  }
 },
 "nbformat": 4,
 "nbformat_minor": 2
}
